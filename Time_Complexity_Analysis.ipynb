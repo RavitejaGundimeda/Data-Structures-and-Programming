{
  "nbformat": 4,
  "nbformat_minor": 0,
  "metadata": {
    "colab": {
      "name": "Time Complexity Analysis.ipynb",
      "provenance": [],
      "collapsed_sections": [],
      "authorship_tag": "ABX9TyNyclwpjnpmTLl4d8B2GKL/",
      "include_colab_link": true
    },
    "kernelspec": {
      "name": "python3",
      "display_name": "Python 3"
    },
    "language_info": {
      "name": "python"
    }
  },
  "cells": [
    {
      "cell_type": "markdown",
      "metadata": {
        "id": "view-in-github",
        "colab_type": "text"
      },
      "source": [
        "<a href=\"https://colab.research.google.com/github/RavitejaGundimeda/Data-Structures-and-Programming/blob/main/Time_Complexity_Analysis.ipynb\" target=\"_parent\"><img src=\"https://colab.research.google.com/assets/colab-badge.svg\" alt=\"Open In Colab\"/></a>"
      ]
    },
    {
      "cell_type": "code",
      "metadata": {
        "id": "Br18MHzxt_9p"
      },
      "source": [
        "def n_loop(power):\n",
        "    for i in range(10**power):\n",
        "        pass\n",
        "    return\n",
        "\n",
        "def n2_loop(power):\n",
        "    for i in range(10**power):\n",
        "        for j in range(10**power):\n",
        "            pass\n",
        "    return\n",
        "\n",
        "def n3_loop(power):\n",
        "    for i in range(10**power):\n",
        "        for j in range(10**power):\n",
        "            for k in range(10**power):\n",
        "                pass\n",
        "    return\n",
        "\n",
        "def log_loop(power):\n",
        "    i=1\n",
        "    while(i<10**power):\n",
        "        i=i*10\n",
        "        \n",
        "    return\n",
        "\n",
        "def nlogn_loop(power):\n",
        "    for j in range(10**power):\n",
        "        i=1\n",
        "        while(i<10**power):\n",
        "            i=i*10\n",
        "    return\n",
        "\n",
        "\n",
        "import matplotlib.pyplot as plt\n",
        "import math\n",
        " \n",
        "# x axis values\n",
        "#x = [i for i in range(1,10)]\n",
        "#print(x)\n",
        "# corresponding y axis values\n",
        "#y = [0.02,0.02,0.02,0.02,0.02,0.06,0.35,3.5,5\n",
        "\n",
        "def plott(x,y,title):\n",
        "  plt.plot(x, y)\n",
        " \n",
        "  # naming the x axis\n",
        "  plt.xlabel('Input-N in powers of 10')\n",
        "  # naming the y axis\n",
        "  plt.ylabel('Time in seconds')\n",
        "  \n",
        "  # giving a title to my graph\n",
        "  plt.title(title)\n",
        "  \n",
        "  # function to show the plot\n",
        "  plt.show()\n",
        "    "
      ],
      "execution_count": null,
      "outputs": []
    },
    {
      "cell_type": "markdown",
      "metadata": {
        "id": "H9SsIv-8RezR"
      },
      "source": [
        "# New Section"
      ]
    },
    {
      "cell_type": "code",
      "metadata": {
        "colab": {
          "base_uri": "https://localhost:8080/",
          "height": 458
        },
        "id": "8n7HBz6JuLmS",
        "outputId": "a8a4338e-ed7c-47dc-90a2-faf3d6d25883"
      },
      "source": [
        "import time\n",
        "x= [i for i in range(1,10)]\n",
        "y= []\n",
        "for power in x:   \n",
        "    start = time.time()\n",
        "    n_loop(power)\n",
        "    end = time.time()\n",
        "    y.append(end-start)\n",
        "for i in range(9):\n",
        "    print(str(i+1)+\" \"+str(y[i]))\n",
        "plott(x,y,'O(n) graph')"
      ],
      "execution_count": null,
      "outputs": [
        {
          "output_type": "stream",
          "name": "stdout",
          "text": [
            "1 2.86102294921875e-06\n",
            "2 2.6226043701171875e-06\n",
            "3 2.193450927734375e-05\n",
            "4 0.00027489662170410156\n",
            "5 0.004973888397216797\n",
            "6 0.02461528778076172\n",
            "7 0.23693633079528809\n",
            "8 2.410881757736206\n",
            "9 24.403473138809204\n"
          ]
        },
        {
          "output_type": "display_data",
          "data": {
            "image/png": "[encoded data removed]",
            "text/plain": [
              "<Figure size 432x288 with 1 Axes>"
            ]
          },
          "metadata": {
            "needs_background": "light"
          }
        }
      ]
    },
    {
      "cell_type": "markdown",
      "metadata": {
        "id": "5Tejzp2zWRVp"
      },
      "source": [
        "This is the main Code\n"
      ]
    },
    {
      "cell_type": "code",
      "metadata": {
        "colab": {
          "base_uri": "https://localhost:8080/",
          "height": 351
        },
        "id": "D5AaUfJHIZqX",
        "outputId": "f46024e9-9ae9-4440-aa4c-401c3fe33fe2"
      },
      "source": [
        "  \n",
        "\n",
        "import matplotlib.pyplot as plt\n",
        "import math\n",
        "import random\n",
        "import time\n",
        "\n",
        "\n",
        "def n_loop(n):\n",
        "    for i in range(n):\n",
        "        pass\n",
        "    return\n",
        "\n",
        "def n2_loop(n):\n",
        "    for i in range(n):\n",
        "        for j in range(n):\n",
        "            pass\n",
        "    return\n",
        "\n",
        "def n3_loop(n):\n",
        "    for i in range(n):\n",
        "        for j in range(n):\n",
        "            for k in range(n):\n",
        "                pass\n",
        "    return\n",
        "\n",
        "def log_loop(power):\n",
        "    i=1\n",
        "    while(i<10**power):\n",
        "        i=i*10\n",
        "        \n",
        "    return\n",
        "\n",
        "def nlogn_loop(power):\n",
        "    for j in range(10**power):\n",
        "        i=1\n",
        "        while(i<10**power):\n",
        "            i=i*10\n",
        "    return\n",
        "\n",
        "\n",
        "def plott(x,y,title):\n",
        "    plt.plot(x, y)\n",
        "    # naming the x axis\n",
        "    plt.xlabel('Input-N')\n",
        "   # naming the y axis\n",
        "    plt.ylabel('Time in seconds')\n",
        "  \n",
        "   # giving a title to my graph\n",
        "    plt.title(title)\n",
        "  \n",
        "  # function to show the plot\n",
        "    plt.show()\n",
        "\n",
        "\n",
        "\n",
        "\n",
        "\n",
        "file1 = open(r\"/content/file1.txt\",\"r\")\n",
        "values = []\n",
        "y=[]\n",
        "#print(file1.readline())\n",
        "#print(file1.readline())\n",
        "#print(file1.readline())\n",
        "for line in file1.readlines():\n",
        "    values.append(int(line.strip(\"\\n\")))\n",
        "print(\"Total,start,end =\",values)\n",
        "list_length, start, end = values[0],values[1],values[2]\n",
        "lis=[]\n",
        "for i in range(list_length):\n",
        "    lis.append(random.randint(start,end))\n",
        "print(\"Random list: \",lis)\n",
        "x = sorted(lis)\n",
        "\n",
        "for n in x:   \n",
        "    start = time.time()\n",
        "    n_loop(n)\n",
        "    end = time.time()\n",
        "    y.append(end-start)\n",
        "#for i in range(9):\n",
        "#    print(str(i+1)+\" \"+str(y[i]))\n",
        "plott(x,y,'O(n) graph')"
      ],
      "execution_count": null,
      "outputs": [
        {
          "output_type": "stream",
          "name": "stdout",
          "text": [
            "Total,start,end = [500, 1, 100000]\n",
            "Random list:  [95369, 59240, 40887, 74956, 63810, 39097, 85875, 7327, 8949, 7085, 50436, 36353, 29604, 71310, 67121, 86276, 80968, 37362, 5294, 16049, 96842, 69631, 79204, 61246, 32447, 69489, 60158, 96309, 74979, 73402, 72251, 49219, 86978, 75830, 88670, 47484, 76491, 64579, 93727, 52079, 9857, 63783, 95560, 72231, 50670, 58980, 61566, 11608, 20255, 10012, 54708, 62423, 47844, 56296, 8533, 48739, 82167, 65988, 9801, 36009, 40313, 61826, 704, 41417, 13431, 61289, 71474, 16678, 83768, 29482, 85061, 79017, 61575, 71854, 37132, 97339, 37137, 86503, 26523, 93067, 6679, 50483, 34709, 44072, 25616, 76507, 35946, 98112, 9493, 50329, 98617, 73032, 72276, 79421, 84864, 25046, 1770, 98791, 58165, 6117, 58910, 64117, 94541, 41500, 70072, 28395, 7962, 1693, 33900, 53927, 10650, 61042, 41548, 79590, 53711, 25422, 20053, 28829, 69522, 34876, 69558, 82815, 67303, 25053, 31515, 86609, 80696, 6745, 50712, 29256, 95214, 22660, 67539, 1578, 72634, 81876, 10605, 61753, 16552, 99557, 55840, 39875, 16206, 68609, 34967, 508, 75233, 84127, 30439, 64429, 74297, 96851, 18982, 36003, 81824, 86387, 41837, 7779, 49647, 1388, 46214, 95535, 70808, 5171, 92941, 30141, 14904, 8246, 57159, 11412, 45950, 33180, 70158, 65758, 89793, 36296, 37917, 82264, 97417, 31022, 74013, 51178, 61000, 39839, 59269, 28149, 82105, 85160, 26541, 89894, 42762, 86532, 24712, 3805, 58813, 67227, 94294, 39018, 5755, 10847, 90548, 69600, 30452, 88181, 9465, 45291, 6954, 60440, 48659, 20201, 50913, 8232, 2323, 14190, 49421, 91469, 6513, 2177, 65596, 87289, 12896, 48780, 39459, 34281, 45274, 79767, 32771, 62957, 74584, 6069, 68097, 40611, 19311, 81909, 65232, 41214, 34972, 98523, 84062, 67051, 82153, 23465, 19634, 48268, 69838, 77580, 42687, 59332, 70978, 21217, 56466, 2596, 54723, 32176, 60104, 96751, 44551, 85862, 85008, 40075, 79889, 23472, 40651, 59070, 45679, 22512, 85696, 37360, 89749, 61856, 84102, 48362, 31528, 6866, 52522, 17100, 54012, 88531, 31246, 54846, 90690, 74527, 76594, 75778, 78322, 80645, 51877, 18456, 86269, 68444, 44372, 99334, 51653, 44270, 46510, 52619, 35145, 74942, 48104, 85317, 91008, 53267, 22235, 8907, 28612, 27277, 53245, 93303, 27139, 13491, 58054, 25714, 64595, 214, 24678, 20629, 11466, 72811, 67839, 42435, 97190, 87709, 10298, 37607, 81794, 60987, 8745, 15512, 87747, 36198, 46127, 73774, 15414, 52868, 7529, 35094, 53769, 14420, 86475, 55460, 60985, 27429, 94015, 68403, 67463, 92282, 32533, 20694, 75987, 40806, 62215, 76677, 87585, 47272, 388, 13693, 22014, 755, 73831, 53983, 11565, 69738, 54501, 37927, 56794, 90624, 10110, 26886, 15286, 85199, 5033, 47727, 8178, 42376, 42555, 71166, 82984, 83608, 54725, 10891, 91504, 34923, 5878, 36729, 21156, 33963, 180, 13363, 338, 47008, 91156, 69899, 14103, 50701, 26181, 27962, 1921, 94386, 9236, 9344, 93836, 10860, 59355, 29007, 56690, 52421, 54116, 36256, 82100, 64087, 7068, 78326, 93191, 17233, 38426, 37184, 73000, 70670, 41284, 8228, 67447, 88827, 87922, 46920, 33180, 9427, 80902, 34949, 21479, 69321, 50045, 56035, 15013, 72189, 56481, 15026, 56078, 68498, 69632, 32102, 99247, 22100, 33834, 83176, 1707, 68605, 93320, 51660, 65705, 6680, 82339, 19161, 96338, 70205, 13955, 22916, 88013, 32595, 68876, 5463, 87838, 70628, 32845, 29320, 55295, 55606, 2579, 56475, 69883, 38138, 17897, 87956, 71629, 1971, 46956, 39663, 9869, 23448, 34728, 12833, 31792, 2072, 61378, 98357, 2721, 55819, 83162, 12096, 36771, 10939, 37550, 13786, 31004, 73151, 17434, 74266, 45717, 50381, 65921, 92909]\n"
          ]
        },
        {
          "output_type": "display_data",
          "data": {
            "image/png": "[encoded data removed]",
            "text/plain": [
              "<Figure size 432x288 with 1 Axes>"
            ]
          },
          "metadata": {
            "needs_background": "light"
          }
        }
      ]
    },
    {
      "cell_type": "markdown",
      "metadata": {
        "id": "IMhE1mq2WPTe"
      },
      "source": [
        ""
      ]
    },
    {
      "cell_type": "code",
      "metadata": {
        "colab": {
          "base_uri": "https://localhost:8080/",
          "height": 331
        },
        "id": "_HoTjB9VLaXu",
        "outputId": "4b4ccd5e-78b8-4b9a-d05f-782ba5cfe8e5"
      },
      "source": [
        "  \n",
        "\n",
        "import matplotlib.pyplot as plt\n",
        "import math\n",
        "import random\n",
        "import time\n",
        "\n",
        "\n",
        "def n_loop(n):\n",
        "    for i in range(n):\n",
        "        pass\n",
        "    return\n",
        "\n",
        "def n2_loop(n):\n",
        "    for i in range(n):\n",
        "        for j in range(n):\n",
        "            pass\n",
        "    return\n",
        "\n",
        "def n3_loop(n):\n",
        "    for i in range(n):\n",
        "        for j in range(n):\n",
        "            for k in range(n):\n",
        "                pass\n",
        "    return\n",
        "\n",
        "def log_loop(n):\n",
        "    i=1\n",
        "    for i in range(1,n):\n",
        "      i=i*2        \n",
        "    return\n",
        "\n",
        "def nlogn_loop(n):\n",
        "    for j in range(n):\n",
        "        i=1\n",
        "        for i in range(1,n):\n",
        "          i=i*2\n",
        "    return\n",
        "\n",
        "def fibonacci(num):\n",
        "    if num <= 1: \n",
        "        return num\n",
        "    return fibonacci(num - 2) + fibonacci(num - 1)\n",
        "\n",
        "\n",
        "def Two_powN(n):\n",
        "    val = fibonacci(n)\n",
        "    return\n",
        "\n",
        "\n",
        "def plott(x,y,title):\n",
        "    plt.plot(x, y)\n",
        "    # naming the x axis\n",
        "    plt.xlabel('Input-N')\n",
        "   # naming the y axis\n",
        "    plt.ylabel('Time in seconds')\n",
        "  \n",
        "   # giving a title to my graph\n",
        "    plt.title(title)\n",
        "  \n",
        "  # function to show the plot\n",
        "    plt.show()\n",
        "\n",
        "\n",
        "file1 = open(r\"/content/file1.txt\",\"r\")\n",
        "values = []\n",
        "y=[]\n",
        "#print(file1.readline())\n",
        "#print(file1.readline())\n",
        "#print(file1.readline())\n",
        "for line in file1.readlines():\n",
        "    values.append(int(line.strip(\"\\n\")))\n",
        "print(\"Total,start,end =\",values)\n",
        "list_length, start, end = values[0],values[1],values[2]\n",
        "lis=[]\n",
        "for i in range(list_length):\n",
        "    lis.append(random.randint(start,end))\n",
        "print(\"Random list: \",lis)\n",
        "x = sorted(lis)\n",
        "\n",
        "for n in x:   \n",
        "    start = time.time()\n",
        "    Two_powN(n)\n",
        "    end = time.time()\n",
        "    y.append(end-start)\n",
        "#for i in range(9):\n",
        "#    print(str(i+1)+\" \"+str(y[i]))\n",
        "plott(x,y,'O(2powN) graph')"
      ],
      "execution_count": null,
      "outputs": [
        {
          "output_type": "stream",
          "name": "stdout",
          "text": [
            "Total,start,end = [20, 1, 40]\n",
            "Random list:  [15, 10, 9, 34, 24, 14, 32, 4, 31, 7, 5, 31, 36, 21, 23, 31, 35, 11, 27, 19]\n"
          ]
        },
        {
          "output_type": "display_data",
          "data": {
            "image/png": "[encoded data removed]",
            "text/plain": [
              "<Figure size 432x288 with 1 Axes>"
            ]
          },
          "metadata": {
            "needs_background": "light"
          }
        }
      ]
    },
    {
      "cell_type": "code",
      "metadata": {
        "colab": {
          "base_uri": "https://localhost:8080/",
          "height": 367
        },
        "id": "d7IMzHDpvOyu",
        "outputId": "56a51ddf-361f-416c-bcba-9e801c8df307"
      },
      "source": [
        "import time\n",
        "x= [i for i in range(1,5)]\n",
        "y= []\n",
        "for power in x:   \n",
        "    start = time.time()\n",
        "    n2_loop(power)\n",
        "    end = time.time()\n",
        "    y.append(end-start)\n",
        "for i in range(len(x)):\n",
        "    print(str(i+1)+\" \"+str(y[i]))\n",
        "plott(x,y,\"n**2 graph\")"
      ],
      "execution_count": null,
      "outputs": [
        {
          "output_type": "stream",
          "name": "stdout",
          "text": [
            "1 1.5020370483398438e-05\n",
            "2 0.00032210350036621094\n",
            "3 0.026997804641723633\n",
            "4 2.705893039703369\n"
          ]
        },
        {
          "output_type": "display_data",
          "data": {
            "image/png": "[encoded data removed]",
            "text/plain": [
              "<Figure size 432x288 with 1 Axes>"
            ]
          },
          "metadata": {
            "needs_background": "light"
          }
        }
      ]
    },
    {
      "cell_type": "code",
      "source": [
        ""
      ],
      "metadata": {
        "id": "7axH8Lv5d3yy"
      },
      "execution_count": null,
      "outputs": []
    },
    {
      "cell_type": "code",
      "metadata": {
        "colab": {
          "base_uri": "https://localhost:8080/",
          "height": 349
        },
        "id": "GuGl1Wm4vf3O",
        "outputId": "1526d3e7-8b42-43bf-9650-65abfef85c3d"
      },
      "source": [
        "import time\n",
        "x= [i for i in range(1,4)]\n",
        "y= []\n",
        "for power in x:   \n",
        "    start = time.time()\n",
        "    n3_loop(power)\n",
        "    end = time.time()\n",
        "    y.append(end-start)\n",
        "for i in range(len(x)):\n",
        "    print(str(i+1)+\" \"+str(y[i]))\n",
        "plott(x,y,\"n**3 graph\")"
      ],
      "execution_count": null,
      "outputs": [
        {
          "output_type": "stream",
          "name": "stdout",
          "text": [
            "1 6.580352783203125e-05\n",
            "2 0.02709817886352539\n",
            "3 23.87522840499878\n"
          ]
        },
        {
          "output_type": "display_data",
          "data": {
            "image/png": "[encoded data removed]",
            "text/plain": [
              "<Figure size 432x288 with 1 Axes>"
            ]
          },
          "metadata": {
            "needs_background": "light"
          }
        }
      ]
    },
    {
      "cell_type": "code",
      "metadata": {
        "colab": {
          "base_uri": "https://localhost:8080/",
          "height": 295
        },
        "id": "f5egZfrN25Fw",
        "outputId": "a61cd565-c4dd-4027-b279-0da73e9887a8"
      },
      "source": [
        "import time\n",
        "x= [i for i in range(1,1000)]\n",
        "y= []\n",
        "for power in x:   \n",
        "    start = time.time()\n",
        "    log_loop(power)\n",
        "    end = time.time()\n",
        "    y.append(end-start)\n",
        "'''for i in range(len(x)):\n",
        "    print(str(i+1)+\" \"+str(y[i]))'''\n",
        "plott(x,y,\"logn graph\")"
      ],
      "execution_count": null,
      "outputs": [
        {
          "output_type": "display_data",
          "data": {
            "image/png": "[encoded data removed]",
            "text/plain": [
              "<Figure size 432x288 with 1 Axes>"
            ]
          },
          "metadata": {
            "needs_background": "light"
          }
        }
      ]
    },
    {
      "cell_type": "code",
      "metadata": {
        "colab": {
          "base_uri": "https://localhost:8080/",
          "height": 422
        },
        "id": "Bnb9HhP34IwC",
        "outputId": "ed2ea018-2cd5-45a6-dbca-cf3145c3b4e1"
      },
      "source": [
        "import time\n",
        "x= [i for i in range(1,8)]\n",
        "y= []\n",
        "for power in x:   \n",
        "    start = time.time()\n",
        "    nlogn_loop(power)\n",
        "    end = time.time()\n",
        "    y.append(end-start)\n",
        "for i in range(len(x)):\n",
        "    print(str(i+1)+\" \"+str(y[i]))\n",
        "plott(x,y,\"nlogn graph\")"
      ],
      "execution_count": null,
      "outputs": [
        {
          "output_type": "stream",
          "name": "stdout",
          "text": [
            "1 9.298324584960938e-06\n",
            "2 7.772445678710938e-05\n",
            "3 0.0011861324310302734\n",
            "4 0.01827692985534668\n",
            "5 0.19068336486816406\n",
            "6 2.246863603591919\n",
            "7 27.526939630508423\n"
          ]
        },
        {
          "output_type": "display_data",
          "data": {
            "image/png": "[encoded data removed]",
            "text/plain": [
              "<Figure size 432x288 with 1 Axes>"
            ]
          },
          "metadata": {
            "needs_background": "light"
          }
        }
      ]
    },
    {
      "cell_type": "code",
      "metadata": {
        "colab": {
          "base_uri": "https://localhost:8080/"
        },
        "id": "D7jWD4ma7b8h",
        "outputId": "838f0d38-ac18-4061-d8fc-a21100650cc5"
      },
      "source": [
        "import random\n",
        "file1 = open(r\"/content/file1.txt\",\"r\")\n",
        "values = []\n",
        "#print(file1.readline())\n",
        "#print(file1.readline())\n",
        "#print(file1.readline())\n",
        "for line in file1.readlines():\n",
        "  values.append(int(line.strip(\"\\n\")))\n",
        "print(\"Total,start,end =\",values)\n",
        "list_length, start, end = values[0],values[1],values[2]\n",
        "lis=[]\n",
        "for i in range(list_length):\n",
        "  lis.append(random.randint(start,end))\n",
        "print(\"Random list: \",lis)\n",
        "#print(random.random())"
      ],
      "execution_count": null,
      "outputs": [
        {
          "output_type": "stream",
          "name": "stdout",
          "text": [
            "Total,start,end = [50, 1, 100]\n",
            "Random list:  [80, 73, 58, 21, 73, 25, 5, 13, 41, 8, 85, 33, 37, 66, 67, 25, 85, 62, 1, 53, 2, 27, 12, 1, 74, 55, 88, 7, 16, 19, 42, 70, 59, 100, 91, 22, 85, 25, 14, 23, 53, 74, 99, 97, 15, 98, 35, 74, 100, 97]\n"
          ]
        }
      ]
    },
    {
      "cell_type": "code",
      "source": [
        "# function for returning length of first line from a given file\n",
        "# excluding line terminator\n",
        "def q1(filename):\n",
        "  with open(filename) as f:\n",
        "    # reading first line from file\n",
        "    firstLine = f.readline()\n",
        "    # excluding line terminator\n",
        "    firstLine = firstLine.rstrip()\n",
        "  # returning length of firstline excluding line terminator\n",
        "  return len(firstLine)\n",
        "\n",
        "#Sample Code to test the above function q1\n",
        "fileName = \"sample.txt\"\n",
        "print(q1(fileName))"
      ],
      "metadata": {
        "colab": {
          "base_uri": "https://localhost:8080/"
        },
        "id": "vflfDRQEd5GK",
        "outputId": "b41ea448-d8ab-467b-df58-5f53389418a7"
      },
      "execution_count": null,
      "outputs": [
        {
          "output_type": "stream",
          "name": "stdout",
          "text": [
            "6\n"
          ]
        }
      ]
    },
    {
      "cell_type": "code",
      "source": [
        "f =  open(r\"/content/inputFile.txt\",\"r\")\n",
        "inp1 = f.readline()\n",
        "print(inp1)\n",
        "inp2 = f.readline()\n",
        "print(inp2)\n",
        "import sys\n",
        "def minCoinChange(arr,amt,length):\n",
        "    if amt == 0:\n",
        "        return 0\n",
        "    res = sys.maxsize\n",
        "    for i in range(length):\n",
        "        if arr[i]<=amt:\n",
        "            temp=minCoinChange(arr,amt-arr[i],length)\n",
        "            \n",
        "            if temp+1<res:\n",
        "                res=temp+1\n",
        "    return res\n",
        "\n",
        "if __name__=='__main__':\n",
        "    arr = [1, 2, 3] \n",
        "    m = len(arr) \n",
        "    print(minCoinChange(arr, 15, m))"
      ],
      "metadata": {
        "colab": {
          "base_uri": "https://localhost:8080/"
        },
        "id": "2VhtBW7zfsLj",
        "outputId": "359083f8-0493-4fcd-b55b-89748db151a6"
      },
      "execution_count": null,
      "outputs": [
        {
          "output_type": "stream",
          "name": "stdout",
          "text": [
            "1 2 3\n",
            "\n",
            "15\n",
            "5\n"
          ]
        }
      ]
    },
    {
      "cell_type": "code",
      "source": [
        "#include<bits/stdc++.h>\n",
        "using namespace std;\n",
        "void lcsubstr(string a,string b)\n",
        "{\n",
        "    string ans;\n",
        "    int flg=0;\n",
        "    for(int i=0;i<a.length();i++)\n",
        "    {\n",
        "        for(int j=i;j<a.length();j++)\n",
        "        {\n",
        "\t\t  // substring of a of length (j-i+1)\n",
        "            string x=a.substr(i,j-i+1);\n",
        "            int t=0;\n",
        "            for(int k=0;k<b.length();k++)\n",
        "            {\n",
        "\t\t\t\t// if character of substring matches\n",
        "\t\t\t\t// that of other string\n",
        "                if(b[k]==x[t])\n",
        "                {\n",
        "                    t++;\n",
        "                }\n",
        "\t\t\t\t// if substring found\n",
        "                else if(t==x.length())\n",
        "                {\n",
        "                    break;\n",
        "                }\n",
        "                else\n",
        "                {\n",
        "                    t=0;\n",
        "                }\n",
        "            }\n",
        "            if(t==x.length())\n",
        "            {\n",
        "                flg=1;\n",
        "\t\t\t\t// if the length of found substring \n",
        "\t\t\t\t// is greater than that of result \n",
        "\t\t\t\t// update result\n",
        "                if(ans.length()<x.length())\n",
        "                    ans=x;\n",
        "            }\n",
        "        }\n",
        "    }\n",
        "    if(flg)\n",
        "        cout << \"Output=\"<<ans << '\\n';\n",
        "    else\n",
        "        cout <<\"No Common Substrings.\\n\";\n",
        "  return;\n",
        "}\n",
        "int main()\n",
        "{\n",
        "\tstring str1,str2;\n",
        "    cout << \"str1=\";\n",
        "    cin  >> str1;\n",
        "    cout << \"str2=\";\n",
        "    cin >> str2;\n",
        "    lcsubstr(str1,str2);\n",
        "}"
      ],
      "metadata": {
        "id": "-APGvQeLMPaQ"
      },
      "execution_count": null,
      "outputs": []
    },
    {
      "cell_type": "code",
      "source": [
        "inp1 = str(input())\n",
        "inp2 = str(input())\n",
        "\n",
        "def lcsubstr(inp1,inp2):\n",
        "  ans = \"\"\n",
        "  flag = 0\n",
        "  for i in range(len(inp1)):\n",
        "    for j in range(i,len(inp2)):\n",
        "      \n",
        "\n",
        "lcsubstr(inp1,inp2)"
      ],
      "metadata": {
        "id": "mVCl1wTnMUh-"
      },
      "execution_count": null,
      "outputs": []
    },
    {
      "cell_type": "code",
      "source": [
        "def lcsubstr(str1, str2):\n",
        "\n",
        "  ans = 0\n",
        "  for i in range(len(str1)):\n",
        "    for j in range(len(str2)):\n",
        "      k = 0\n",
        "      while ((i + k) < len(str1) and (j + k) < len(str2) and str1[i + k] == str2[j + k]):\n",
        "        k = k + 1\n",
        "      ans = max(ans, k)\n",
        "  return ans\n",
        "\n",
        "str1 = str(input())\n",
        "str2 = str(input())\n",
        "res = lcsubstr(str1,str2)\n",
        "print(\"Length is\",res)\n"
      ],
      "metadata": {
        "colab": {
          "base_uri": "https://localhost:8080/"
        },
        "id": "7OPKxfT_P3LH",
        "outputId": "39047733-def9-49e6-ecae-d135bb2dbfde"
      },
      "execution_count": null,
      "outputs": [
        {
          "output_type": "stream",
          "name": "stdout",
          "text": [
            "aaaabbbbbbdghjklmnopppp\n",
            "hhhhhhhhhhhhhhhjjjjjjjjjlmnoqqqqqqqqqq\n",
            "Length is 4\n"
          ]
        }
      ]
    },
    {
      "cell_type": "code",
      "source": [
        "def LCSubStr(str1, str2, N, M):\n",
        " \n",
        "    LCSuff = [[0 for k in range(M+1)] for l in range(N+1)]\n",
        "    mx = 0\n",
        "    for i in range(N + 1):\n",
        "        for j in range(M + 1):\n",
        "            if (i == 0 or j == 0):\n",
        "                LCSuff[i][j] = 0\n",
        "            elif (str1[i-1] == str2[j-1]):\n",
        "                LCSuff[i][j] = LCSuff[i-1][j-1] + 1\n",
        "                mx = max(mx, LCSuff[i][j])\n",
        "            else:\n",
        "                LCSuff[i][j] = 0\n",
        "    return mx\n",
        "\n",
        "\n",
        "str1 = str(input())\n",
        "str2 = str(input())\n",
        "res = LCSubStr(str1,str2,len(str1),len(str2))\n",
        "print(\"Length is\",res)"
      ],
      "metadata": {
        "colab": {
          "base_uri": "https://localhost:8080/"
        },
        "id": "e7UckCy-CUDv",
        "outputId": "4e8736a2-7289-476c-c609-1d1d58e7918a"
      },
      "execution_count": null,
      "outputs": [
        {
          "output_type": "stream",
          "name": "stdout",
          "text": [
            "aaaabbbbbbdghjklmnopppp\n",
            "hhhhhhhhhhhhhhhjjjjjjjjjlmnoqqqqqqqqqq\n",
            "Length is 4\n"
          ]
        }
      ]
    },
    {
      "cell_type": "markdown",
      "source": [
        "# New Section"
      ],
      "metadata": {
        "id": "dRyLW-Jbg0QB"
      }
    },
    {
      "cell_type": "code",
      "source": [
        "for i in range(5+1):\n",
        "  print(i)"
      ],
      "metadata": {
        "colab": {
          "base_uri": "https://localhost:8080/"
        },
        "id": "Di6FqdQsMZO5",
        "outputId": "49d60b39-981a-44ca-ee53-30d43dd07eb3"
      },
      "execution_count": null,
      "outputs": [
        {
          "output_type": "stream",
          "name": "stdout",
          "text": [
            "0\n",
            "1\n",
            "2\n",
            "3\n",
            "4\n",
            "5\n"
          ]
        }
      ]
    }
  ]
}